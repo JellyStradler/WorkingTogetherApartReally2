{
  "cells": [
    {
      "cell_type": "markdown",
      "metadata": {
        "id": "view-in-github",
        "colab_type": "text"
      },
      "source": [
        "<a href=\"https://colab.research.google.com/github/JellyStradler/WorkingTogetherApartReally2/blob/main/CreateProject.ipynb\" target=\"_parent\"><img src=\"https://colab.research.google.com/assets/colab-badge.svg\" alt=\"Open In Colab\"/></a>"
      ]
    },
    {
      "cell_type": "code",
      "execution_count": null,
      "metadata": {
        "id": "redzRAhxf5Mj"
      },
      "outputs": [],
      "source": []
    },
    {
      "cell_type": "markdown",
      "metadata": {
        "id": "OsbMnr4jgDtd"
      },
      "source": [
        "# Day 0\n",
        "Superhero Encyclopedia\n",
        "\n",
        "* Make overall function\n",
        "* Make subfunction with a perameter"
      ]
    },
    {
      "cell_type": "code",
      "execution_count": 23,
      "metadata": {
        "id": "C4uxwkpZk4yN"
      },
      "outputs": [],
      "source": [
        "\n",
        "supscore = [\"BAMP\",\"THWIP\",\"POW\",\"SWOOSH\"]\n",
        "\n",
        "def SuperTest():\n",
        "\n",
        "\n",
        "  name = input(\"What is your name true believer? \")\n",
        "\n",
        "\n",
        "  answer = input(\"Are you ready for the Ultimate SuperHero Triva Test? y/n \")\n",
        "  if answer == (\"y\"):\n",
        "    Restofit(name)\n",
        "\n",
        "\n",
        "\n"
      ]
    },
    {
      "cell_type": "code",
      "source": [
        "def Restofit(name):\n",
        "    print(\"hello\",name + \"!\")\n",
        "    print(\"\")\n",
        "    print(\"Great! Lets begin, ...\")\n",
        "    print(\" \")\n",
        "    print(\"What team is considered Marvels 'First Family'? \")\n",
        "    print(\" \")\n",
        "    print(\"A: The Eternals\")\n",
        "    print(\"B: The Avengers\")\n",
        "    print(\"C: The Thunderbolts\")\n",
        "    print(\"D: The Fantastic Four\")\n",
        "    print(\"\")\n",
        "\n",
        "    answer = input(\"My final anser is ... \" )\n",
        "    if answer == (\"D\"):\n",
        "      print(\"\")\n",
        "      print(\"Correct! The Fantastic 4 was the first team produced by Marvel Comics in (November 1961). \")\n",
        "      print(\" \")\n",
        "      print(\"Okay next question ...\")\n",
        "      print(\"\")\n",
        "      print(\"What does the acronym S.H.E.I.L.D. currently stand for in the MCU? \")\n",
        "      print(\"\")\n",
        "      print(\"A: Strategic, High-tech, Espionage, and Infiltration, Logistics, Division\")\n",
        "      print(\"B: Strategic, Homeland, Entervenion, Inforcement, and Legistics, Division\")\n",
        "      print(\"C: Sentinel, Homeland, Enforcement, and Intelligence, Legion, Directorate\")\n",
        "      print(\"D: Surveillance, Hazard Evaluation, and Infiltration Logistics Directorate\")\n",
        "      print(\" \")\n",
        "      answer = input(\"My final answer is ... \")\n",
        "      print(\" \")\n",
        "      if answer == (\"B\"):\n",
        "        print(\"Good Job\")\n",
        "        print(\" \")\n",
        "        print(\"Next question ... \")\n",
        "        print(\" \")\n",
        "        print(\"Which of the following is not true about Bat-Mans first apperence? \")\n",
        "        print(\" \")\n",
        "        print(\"A: Alfred was Bruce Waynes butler\")\n",
        "        print(\"B: He first appered in Detective Comics issue #27 \")\n",
        "        print(\"C: Bat-Man carried a gun\")\n",
        "        print(\"D: His first villan was Alfred Stryker\")\n",
        "        print(\"\")\n",
        "        answer = input(\"My final answer is ... \")\n",
        "        if answer == (\"A\"):\n",
        "          print(\" \")\n",
        "          print(\"Correct! Alfred Pennyworth didn't make his first apprence until Batman #16 (April 1944).\")\n",
        "          print(\"\")\n",
        "          print(\"Your doing great!\")\n",
        "          print(\" \")\n",
        "          print(\"2 more questions to go!\")\n",
        "          print(\" \")\n",
        "          print(\"How many Lantern Corps are their in DC? \")\n",
        "          print(\"A: 8\")\n",
        "          print(\"B: 6\")\n",
        "          print(\"C: 4\")\n",
        "          print(\"D: 11\")\n",
        "          answer = input(\"My final asnwer is ... \")\n",
        "          if answer == (\"D\"):\n",
        "            print(\"\")\n",
        "            print(\"Good stuff!\")\n",
        "            print(\" \")\n",
        "            print(\"Final question ... \")\n",
        "            print(\" \")\n",
        "            print(\"Who was the first superhero to get their first TV show? \")\n",
        "            print(\"\")\n",
        "            print(\"A: Batman\")\n",
        "            print(\"B: Superman\")\n",
        "            print(\"C: Spiderman\")\n",
        "            print(\"D: The Incredible Hulk\")\n",
        "            print(\" \")\n",
        "            answer = input(\"My final asnwer is ... \")\n",
        "            if answer == (\"B\"):\n",
        "              print(\" \")\n",
        "              print(\"Great Job! The Adventures of Superman was the first ever TV show that focused on a comic book hero in (1952)\")\n",
        "              print(\"\")\n",
        "\n",
        "\n",
        "\n",
        "        else:\n",
        "          print(\" \")\n",
        "          print(\"Wrong! The Correct answer is 'A'. Alfred Pennyworth didn't make his first apprence until Batman #16 (April 1944) \")\n",
        "\n",
        "\n",
        "\n",
        "    else:\n",
        "      print(\" \")\n",
        "      print(\"Wrong. The correct answer is 'D' The Fantastic 4. Created in November 1961 by Stan Lee and Jack Kurby.\" )\n",
        "\n",
        "\n"
      ],
      "metadata": {
        "id": "XVCanZVbU6yV"
      },
      "execution_count": 24,
      "outputs": []
    },
    {
      "cell_type": "code",
      "execution_count": 25,
      "metadata": {
        "colab": {
          "base_uri": "https://localhost:8080/"
        },
        "id": "-efE8lcil_7y",
        "outputId": "6cdc5699-1573-49a9-b1ef-716c342fa8a3"
      },
      "outputs": [
        {
          "name": "stdout",
          "output_type": "stream",
          "text": [
            "What is your name true believer? brian\n",
            "Are you ready for the Ultimate SuperHero Triva Test? y/n y\n",
            "hello brian!\n",
            "\n",
            "Great! Lets begin, ...\n",
            " \n",
            "What team is considered Marvels 'First Family'? \n",
            " \n",
            "A: The Eternals\n",
            "B: The Avengers\n",
            "C: The Thunderbolts\n",
            "D: The Fantastic Four\n",
            "\n",
            "My final anser is ... D\n",
            "\n",
            "Correct! The Fantastic 4 was the first team produced by Marvel Comics in (November 1961). \n",
            " \n",
            "Okay next question ...\n",
            "\n",
            "What does the acronym S.H.E.I.L.D. currently stand for in the MCU? \n",
            "\n",
            "A: Strategic, High-tech, Espionage, and Infiltration, Logistics, Division\n",
            "B: Strategic, Homeland, Entervenion, Inforcement, and Legistics, Division\n",
            "C: Sentinel, Homeland, Enforcement, and Intelligence, Legion, Directorate\n",
            "D: Surveillance, Hazard Evaluation, and Infiltration Logistics Directorate\n",
            " \n",
            "My final answer is ... B\n",
            " \n",
            "Good Job\n",
            " \n",
            "Next question ... \n",
            " \n",
            "Which of the following is not true about Bat-Mans first apperence? \n",
            " \n",
            "A: Alfred was Bruce Waynes butler\n",
            "B: He first appered in Detective Comics issue #27 \n",
            "C: Bat-Man carried a gun\n",
            "D: His first villan was Alfred Stryker\n",
            "\n",
            "My final answer is ... A\n",
            " \n",
            "Correct! Alfred Pennyworth didn't make his first apprence until Batman #16 (April 1944).\n",
            "\n",
            "Your doing great!\n",
            " \n",
            "2 more questions to go!\n",
            " \n",
            "How many Lantern Corps are their in DC? \n",
            "A: 8\n",
            "B: 6\n",
            "C: 4\n",
            "D: 11\n",
            "My final asnwer is ... B\n"
          ]
        }
      ],
      "source": [
        "\n",
        "SuperTest()"
      ]
    }
  ],
  "metadata": {
    "colab": {
      "provenance": [],
      "authorship_tag": "ABX9TyOJiPRKxa00cWxVWTotZb32",
      "include_colab_link": true
    },
    "kernelspec": {
      "display_name": "Python 3",
      "name": "python3"
    },
    "language_info": {
      "name": "python"
    }
  },
  "nbformat": 4,
  "nbformat_minor": 0
}